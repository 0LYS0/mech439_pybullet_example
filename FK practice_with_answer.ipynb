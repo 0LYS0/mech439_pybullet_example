{
 "cells": [
  {
   "cell_type": "code",
   "execution_count": 27,
   "metadata": {},
   "outputs": [],
   "source": [
    "import numpy as np\n",
    "import pybullet as p\n",
    "import pybullet_data"
   ]
  },
  {
   "cell_type": "code",
   "execution_count": 28,
   "metadata": {},
   "outputs": [],
   "source": [
    "ClientId = p.connect(p.GUI)"
   ]
  },
  {
   "cell_type": "code",
   "execution_count": 29,
   "metadata": {},
   "outputs": [],
   "source": [
    "p.setAdditionalSearchPath(pybullet_data.getDataPath())\n",
    "\n",
    "p.configureDebugVisualizer(p.COV_ENABLE_GUI, 0)                        # Enable/Disable a default GUI\n",
    "p.configureDebugVisualizer(p.COV_ENABLE_SHADOWS, 1)                    # Enable/Disable a light effect\n",
    "p.configureDebugVisualizer(p.COV_ENABLE_RGB_BUFFER_PREVIEW, 0)         # Show/Hide a RGB buffer preview window\n",
    "p.configureDebugVisualizer(p.COV_ENABLE_DEPTH_BUFFER_PREVIEW, 0)       # Show/Hide a Depth buffer preview window\n",
    "p.configureDebugVisualizer(p.COV_ENABLE_SEGMENTATION_MARK_PREVIEW, 0)  # Show/Hide a Seg-map buffer preview window"
   ]
  },
  {
   "cell_type": "code",
   "execution_count": 30,
   "metadata": {},
   "outputs": [],
   "source": [
    "PlaneId = p.loadURDF(\"plane.urdf\")"
   ]
  },
  {
   "cell_type": "code",
   "execution_count": 31,
   "metadata": {},
   "outputs": [],
   "source": [
    "p.resetDebugVisualizerCamera(cameraDistance=1.5, cameraYaw=45, cameraPitch=-30, cameraTargetPosition=[0, 0, 0.5])"
   ]
  },
  {
   "cell_type": "code",
   "execution_count": 32,
   "metadata": {},
   "outputs": [],
   "source": [
    "p.setGravity(0, 0, -9.81) # set a gravity vector\n",
    "p.setTimeStep(1./240)     # set a simulation time step (240 Hz)"
   ]
  },
  {
   "cell_type": "code",
   "execution_count": 33,
   "metadata": {},
   "outputs": [],
   "source": [
    "p.setRealTimeSimulation(1) # start real-time physics simulation"
   ]
  },
  {
   "cell_type": "code",
   "execution_count": 34,
   "metadata": {},
   "outputs": [],
   "source": [
    "def visualizeEEframe(robotId, n=6):\n",
    "    LineID = []\n",
    "    for i in range(3):\n",
    "        id = p.addUserDebugLine(lineFromXYZ=[0, 0, 0.06], lineToXYZ=0.1*np.eye(3)[i] + [0, 0, 0.06], lineColorRGB=np.eye(3)[i], lineWidth=5, \n",
    "                                parentObjectUniqueId=robotId, parentLinkIndex=n-1, physicsClientId=ClientId)\n",
    "        LineID.append(id)\n",
    "    return LineID"
   ]
  },
  {
   "cell_type": "code",
   "execution_count": 35,
   "metadata": {},
   "outputs": [],
   "source": [
    "urdf_path = \"./indy7_v2/model.urdf\"\n",
    "base_pos = [0, 0, 0]\n",
    "base_quat = p.getQuaternionFromEuler([0, 0, 0])\n",
    "\n",
    "flags = p.URDF_USE_INERTIA_FROM_FILE + p.URDF_USE_SELF_COLLISION + p.URDF_USE_SELF_COLLISION_EXCLUDE_PARENT\n",
    "\n",
    "robotId = p.loadURDF(urdf_path, \n",
    "                     basePosition=base_pos, \n",
    "                     baseOrientation=base_quat,\n",
    "                     flags=flags, \n",
    "                     physicsClientId=ClientId)\n",
    "numJoints = p.getNumJoints(robotId, physicsClientId=ClientId)\n",
    "jointTypes = [p.getJointInfo(robotId, i)[2] for i in range(numJoints)]\n",
    "MovableJointIdx = [i for i, jointType in enumerate(jointTypes) if jointType==p.JOINT_REVOLUTE or jointType==p.JOINT_PRISMATIC]\n",
    "LineID = visualizeEEframe(robotId, len(MovableJointIdx))"
   ]
  },
  {
   "cell_type": "code",
   "execution_count": 36,
   "metadata": {},
   "outputs": [],
   "source": [
    "# TODO: Define functions for FK by DH\n",
    "def updateDHparams(dh_parameters, joint_variables, jointTypes):\n",
    "    for i, (joint_variable, jointType) in enumerate(zip(joint_variables, jointTypes)):\n",
    "        if jointType == p.JOINT_FIXED:\n",
    "            continue\n",
    "        elif jointType == p.JOINT_REVOLUTE:\n",
    "            dh_parameters[i+1][1] += joint_variable\n",
    "        elif jointType == p.JOINT_PRISMATIC:\n",
    "            dh_parameters[i+1][0] += joint_variable\n",
    "        else:\n",
    "            continue\n",
    "    return dh_parameters\n",
    "\n",
    "def getRelativeTransformation(dh_parameter):\n",
    "    d, theta, r, alpha = dh_parameter\n",
    "    T = [[np.cos(theta), -np.sin(theta) * np.cos(alpha), np.sin(theta) * np.sin(alpha), r * np.cos(theta)],\n",
    "         [np.sin(theta), np.cos(theta) * np.cos(alpha), -np.cos(theta) * np.sin(alpha), r * np.sin(theta)],\n",
    "         [0 , np.sin(alpha), np.cos(alpha), d],\n",
    "         [0, 0, 0, 1]]\n",
    "    return np.array(T)\n",
    "\n",
    "def FK_DH(dh_parameters):\n",
    "    T = np.eye(4)\n",
    "    for i in dh_parameters:\n",
    "        T = np.matmul(T, getRelativeTransformation(i))\n",
    "    return T\n",
    "\n",
    "# TODO: Define function to get Transformation matrix of end effector frame (tcp)\n",
    "def getTfromRp(R, pos):\n",
    "    T = np.eye(4)\n",
    "    T[0:3, 0:3] = R\n",
    "    T[0:3, 3] = pos\n",
    "    return T\n",
    "\n",
    "def getEETransformation(robotId, n=7):\n",
    "    linkState = p.getLinkState(robotId, n-1)\n",
    "    pos = list(linkState[4])\n",
    "    # pos[2] += 0.06\n",
    "    R = p.getMatrixFromQuaternion(linkState[5])\n",
    "    R = np.array(R).reshape(3,3)\n",
    "    return getTfromRp(R, pos)\n",
    "    # phi, theta, psi = p.getEulerFromQuaternion(linkState[5]) # XYZ Euler angle\n",
    "    # cphi = np.cos(phi)\n",
    "    # sphi = np.sin(phi)\n",
    "    # ctheta = np.cos(theta)\n",
    "    # stheta = np.sin(theta)\n",
    "    # cpsi = np.cos(psi)\n",
    "    # spsi = np.sin(psi)\n",
    "    # R = [[ctheta * cpsi, -ctheta * spsi, stheta],\n",
    "    #      [sphi * stheta * cpsi + cphi * spsi, -sphi * stheta * spsi + cphi * cpsi, -sphi * ctheta],\n",
    "    #      [-cphi * stheta * cpsi + sphi * spsi, cphi * stheta * spsi + sphi * cpsi, cphi * ctheta]]\n",
    "    \n"
   ]
  },
  {
   "cell_type": "code",
   "execution_count": 37,
   "metadata": {},
   "outputs": [],
   "source": [
    "# TODO: Set arbitrary joint variables\n",
    "q = np.array([0,0,0,0,0,0]) * np.pi / 180\n",
    "#q = np.array([0,0,0,0,0,10]) * np.pi / 180\n",
    "q = np.array([30,30,10,20,60,40]) * np.pi / 180\n",
    "\n",
    "# TODO: Define Indy7 v2 DH parameters\n",
    "PI = np.pi\n",
    "dh_parameters = [[0.0775, 0, 0, 0],\n",
    "                 [0.222, 0, 0, PI/2],\n",
    "                 [0.109-0.0305, PI/2, 0.45, 0],\n",
    "                 [-0.075, -PI/2, 0, -PI/2],\n",
    "                 [0.267+0.083, 0, 0, PI/2],\n",
    "                 [0.114+0.085, 0, 0, -PI/2],\n",
    "                 [0.112, 0, 0, 0]] # d, theta, r, alpha\n",
    "\n",
    "# TODO: Get EE's Transformation matrix using FK by DH\n",
    "dh_parameters = updateDHparams(dh_parameters, q, jointTypes)\n",
    "T_dh = FK_DH(dh_parameters)\n",
    "R = T_dh[0:3, 0:3]\n",
    "pos = T_dh[0:3, 3].T\n",
    "p.addUserDebugLine(lineFromXYZ=pos, lineToXYZ=pos+np.matmul(R,[0.3, 0, 0]), lineColorRGB=[1, 0, 0],\n",
    "                    lineWidth=5, physicsClientId=ClientId)\n",
    "p.addUserDebugLine(lineFromXYZ=pos, lineToXYZ=pos+np.matmul(R,[0, 0.3, 0]), lineColorRGB=[0, 1, 0],\n",
    "                    lineWidth=5, physicsClientId=ClientId)\n",
    "p.addUserDebugLine(lineFromXYZ=pos, lineToXYZ=pos+np.matmul(R,[0, 0, 0.3]), lineColorRGB=[0, 0, 1],\n",
    "                    lineWidth=5, physicsClientId=ClientId)\n",
    "\n",
    "# TODO: Apply joint variables to robot and get EE's Transformation matrix\n",
    "p.setJointMotorControlArray(robotId, \n",
    "                            jointIndices=MovableJointIdx, \n",
    "                            controlMode=p.POSITION_CONTROL,\n",
    "                            targetPositions=q,\n",
    "                            physicsClientId=ClientId)"
   ]
  },
  {
   "cell_type": "code",
   "execution_count": 38,
   "metadata": {},
   "outputs": [
    {
     "name": "stdout",
     "output_type": "stream",
     "text": [
      "[[ 1.00000000e+00  5.14182886e-06 -2.09207639e-05 -2.07499794e-06]\n",
      " [-5.14124972e-06  1.00000000e+00  2.76826771e-05  8.46774389e-06]\n",
      " [ 2.09209062e-05 -2.76825695e-05  9.99999999e-01  1.02054850e-05]\n",
      " [ 0.00000000e+00  0.00000000e+00  0.00000000e+00  1.00000000e+00]]\n"
     ]
    }
   ],
   "source": [
    "from time import sleep\n",
    "sleep(0.5)\n",
    "T_simul = getEETransformation(robotId, numJoints)\n",
    "\n",
    "print(np.matmul(np.linalg.inv(T_dh), T_simul)) # Error\n"
   ]
  },
  {
   "cell_type": "code",
   "execution_count": 39,
   "metadata": {},
   "outputs": [],
   "source": [
    "p.disconnect()"
   ]
  },
  {
   "cell_type": "code",
   "execution_count": null,
   "metadata": {},
   "outputs": [],
   "source": []
  }
 ],
 "metadata": {
  "kernelspec": {
   "display_name": "robotics",
   "language": "python",
   "name": "python3"
  },
  "language_info": {
   "codemirror_mode": {
    "name": "ipython",
    "version": 3
   },
   "file_extension": ".py",
   "mimetype": "text/x-python",
   "name": "python",
   "nbconvert_exporter": "python",
   "pygments_lexer": "ipython3",
   "version": "3.8.19"
  }
 },
 "nbformat": 4,
 "nbformat_minor": 2
}
