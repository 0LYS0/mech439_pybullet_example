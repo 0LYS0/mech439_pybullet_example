{
 "cells": [
  {
   "cell_type": "markdown",
   "id": "94407708-1204-419d-a3c6-23cedd876c26",
   "metadata": {},
   "source": [
    "**Pybullet Quickstart Guide** \\\n",
    "https://docs.google.com/document/d/10sXEhzFRSnvFcl3XxNGhnD4N2SedqwdAvK3dsihxVUA/edit?tab=t.0#heading=h.3ei4cod3v112 \\\n",
    "**Pybullet example** \\\n",
    "https://github.com/bulletphysics/bullet3/tree/master/examples/pybullet/examples"
   ]
  },
  {
   "cell_type": "code",
   "execution_count": null,
   "id": "79759dfe-d20b-4e97-88e5-a9de253c7ee9",
   "metadata": {},
   "outputs": [],
   "source": [
    "import numpy as np\n",
    "import pybullet as p\n",
    "import pybullet_data"
   ]
  },
  {
   "cell_type": "markdown",
   "id": "4927acab-1b4c-493e-9f50-079e2540808b",
   "metadata": {},
   "source": [
    "# Open PyBullet GUI"
   ]
  },
  {
   "cell_type": "markdown",
   "id": "dafc6fbc-e2dd-4726-bb59-3f08798f17c3",
   "metadata": {},
   "source": [
    "### * Connect to the PyBullet GUI"
   ]
  },
  {
   "cell_type": "code",
   "execution_count": null,
   "id": "514c24ce-8d9a-440a-a232-c3d852b5d300",
   "metadata": {},
   "outputs": [],
   "source": [
    "ClientId = p.connect(p.GUI)"
   ]
  },
  {
   "cell_type": "markdown",
   "id": "98f70367-706b-4728-b517-515633351ea6",
   "metadata": {},
   "source": [
    "### * Set GUI configurations"
   ]
  },
  {
   "cell_type": "code",
   "execution_count": null,
   "id": "b1e7d1ea-cc48-4ed5-904b-4bb172faa75e",
   "metadata": {},
   "outputs": [],
   "source": [
    "p.setAdditionalSearchPath(pybullet_data.getDataPath())\n",
    "\n",
    "p.configureDebugVisualizer(p.COV_ENABLE_GUI, 0)                        # Enable/Disable a default GUI\n",
    "p.configureDebugVisualizer(p.COV_ENABLE_SHADOWS, 1)                    # Enable/Disable a light effect\n",
    "p.configureDebugVisualizer(p.COV_ENABLE_RGB_BUFFER_PREVIEW, 0)         # Show/Hide a RGB buffer preview window\n",
    "p.configureDebugVisualizer(p.COV_ENABLE_DEPTH_BUFFER_PREVIEW, 0)       # Show/Hide a Depth buffer preview window\n",
    "p.configureDebugVisualizer(p.COV_ENABLE_SEGMENTATION_MARK_PREVIEW, 0)  # Show/Hide a Seg-map buffer preview window"
   ]
  },
  {
   "cell_type": "markdown",
   "id": "70280715-3967-43a8-bdaf-066f3acd5a1c",
   "metadata": {},
   "source": [
    "### * Add plane & plot world coordinate frame"
   ]
  },
  {
   "cell_type": "code",
   "execution_count": null,
   "id": "333d5403-0e8c-4fd7-8cb1-e1f5b36a8bf9",
   "metadata": {},
   "outputs": [],
   "source": [
    "PlaneId = p.loadURDF(\"plane.urdf\")"
   ]
  },
  {
   "cell_type": "code",
   "execution_count": null,
   "id": "ef52b2b6-1fa7-409a-8073-f4b323672c11",
   "metadata": {},
   "outputs": [],
   "source": [
    "WorldXDebugLineID = p.addUserDebugLine(lineFromXYZ=[0, 0, 0], lineToXYZ=[0.3, 0, 0], lineColorRGB=[1, 0, 0],\n",
    "                                       lineWidth=5, physicsClientId=ClientId)\n",
    "WorldYDebugLineID = p.addUserDebugLine(lineFromXYZ=[0, 0, 0], lineToXYZ=[0, 0.3, 0], lineColorRGB=[0, 1, 0],\n",
    "                                       lineWidth=5, physicsClientId=ClientId)\n",
    "WorldZDebugLineID = p.addUserDebugLine(lineFromXYZ=[0, 0, 0], lineToXYZ=[0, 0, 0.3], lineColorRGB=[0, 0, 1],\n",
    "                                       lineWidth=5, physicsClientId=ClientId)"
   ]
  },
  {
   "cell_type": "markdown",
   "id": "8fe2a096-c1b4-4808-9011-80b0c0cc7810",
   "metadata": {},
   "source": [
    "### * Set camera"
   ]
  },
  {
   "cell_type": "code",
   "execution_count": null,
   "id": "6cd6d445-0cf1-4897-ac96-6c67745fc37b",
   "metadata": {},
   "outputs": [],
   "source": [
    "p.resetDebugVisualizerCamera(cameraDistance=1.5, cameraYaw=45, cameraPitch=-30, cameraTargetPosition=[0, 0, 0.5])"
   ]
  },
  {
   "cell_type": "markdown",
   "id": "275135da-cc79-4436-a1e9-d8ae9d8a20a5",
   "metadata": {},
   "source": [
    "### * Set physics scene"
   ]
  },
  {
   "cell_type": "code",
   "execution_count": null,
   "id": "cf5bffaf-22a8-46b4-99b9-53126dbaad50",
   "metadata": {},
   "outputs": [],
   "source": [
    "p.setGravity(0, 0, -9.81) # set a gravity vector\n",
    "p.setTimeStep(1./240)     # set a simulation time step (240 Hz)"
   ]
  },
  {
   "cell_type": "code",
   "execution_count": null,
   "id": "624119eb-78a3-4300-8bc0-9a7289d8d64f",
   "metadata": {},
   "outputs": [],
   "source": [
    "p.setRealTimeSimulation(1) # start real-time physics simulation"
   ]
  },
  {
   "cell_type": "markdown",
   "id": "379c6535-1ffc-4859-b25e-079eeacdfa4b",
   "metadata": {},
   "source": [
    "### Keyboard shortcuts\n",
    "\n",
    "**ctrl $+$ LB**: Rotate view \\\n",
    "**ctrl $+$ RB**: Translate view \\\n",
    "**ctrl $+$ MB**: Zoom view in/out \\\n",
    "**MB $\\pm$ wheel**: Zoom view in/out \\\n",
    "\n",
    "**w**: Toggle wireframe \\\n",
    "**j**: Show links and joints frames as RGB lines \\\n",
    "**k**: Show joint axes as a black line \\"
   ]
  },
  {
   "cell_type": "markdown",
   "id": "b06a29c0-9104-4ee2-88c9-0d642daa3168",
   "metadata": {},
   "source": [
    "# Add/Remove object in PyBullet"
   ]
  },
  {
   "cell_type": "markdown",
   "id": "db119098-9138-44f0-9b11-6f7215577304",
   "metadata": {},
   "source": [
    "### * Add box shape object (10cm * 10cm * 10cm)"
   ]
  },
  {
   "cell_type": "markdown",
   "id": "6e0dad6f-1607-448c-9ea9-54322a00fb07",
   "metadata": {},
   "source": [
    "##### - create visual/collision shape"
   ]
  },
  {
   "cell_type": "code",
   "execution_count": null,
   "id": "f1d00fe8-43d2-4ef5-87bc-58aa7b5d305a",
   "metadata": {},
   "outputs": [],
   "source": [
    "obj_color = [1, 0, 0, 1]\n",
    "obj_dim = [0.10/2, 0.10/2, 0.10/2]\n",
    "\n",
    "visualShapeId = p.createVisualShape(shapeType=p.GEOM_BOX, \n",
    "                                    halfExtents=obj_dim, \n",
    "                                    rgbaColor=obj_color)\n",
    "\n",
    "collisionShapeId = p.createCollisionShape(shapeType=p.GEOM_BOX, \n",
    "                                          halfExtents=obj_dim)\n",
    "\n",
    "print(\"visualShapeId: \", visualShapeId)\n",
    "print(\"collisionShapeId: \", collisionShapeId)"
   ]
  },
  {
   "cell_type": "markdown",
   "id": "eccbc827-eb21-4047-9964-73ce9c965f8c",
   "metadata": {},
   "source": [
    "##### -create rigid body"
   ]
  },
  {
   "cell_type": "code",
   "execution_count": null,
   "id": "c0f086b4-6cc8-4984-ac89-7709e836b19c",
   "metadata": {},
   "outputs": [],
   "source": [
    "boxShapeId = p.createMultiBody(baseMass=1,\n",
    "                               baseInertialFramePosition =[0, 0, 0],\n",
    "                               baseVisualShapeIndex=visualShapeId,\n",
    "                               baseCollisionShapeIndex=collisionShapeId,\n",
    "                               basePosition=[0, 0, 1])\n",
    "\n",
    "print(\"boxShapeId: \", boxShapeId)"
   ]
  },
  {
   "cell_type": "markdown",
   "id": "804198f2-07f1-445e-8fb0-26e918fe6463",
   "metadata": {},
   "source": [
    "##### - remove rigid body"
   ]
  },
  {
   "cell_type": "code",
   "execution_count": null,
   "id": "bd4ec7c0-4eb0-4dd5-b34e-216b23b48fe2",
   "metadata": {},
   "outputs": [],
   "source": [
    "p.removeBody(boxShapeId)"
   ]
  },
  {
   "cell_type": "markdown",
   "id": "abef0ee6-109c-4c3d-89bb-83ac0fa89013",
   "metadata": {},
   "source": [
    "### * Add mesh object"
   ]
  },
  {
   "cell_type": "code",
   "execution_count": null,
   "id": "1b874aa5-b2e7-4caa-9016-7a337d6e72e4",
   "metadata": {},
   "outputs": [],
   "source": [
    "obj_color = [1, 1, 1, 1]\n",
    "obj_shift = [0, 0.02, 0]\n",
    "obj_scale = [0.4, 0.4, 0.4]\n",
    "\n",
    "visualShapeId = p.createVisualShape(shapeType=p.GEOM_MESH,\n",
    "                                    fileName=\"duck.obj\",\n",
    "                                    rgbaColor=obj_color,\n",
    "                                    specularColor=[1, 1, 1],\n",
    "                                    visualFramePosition=obj_shift,\n",
    "                                    meshScale=obj_scale)\n",
    "\n",
    "collisionShapeId = p.createCollisionShape(shapeType=p.GEOM_MESH,\n",
    "                                          fileName=\"duck_vhacd.obj\",\n",
    "                                          collisionFramePosition=obj_shift,\n",
    "                                          meshScale=obj_scale)\n",
    "\n",
    "print(\"visualShapeId: \", visualShapeId)\n",
    "print(\"collisionShapeId: \", collisionShapeId)"
   ]
  },
  {
   "cell_type": "code",
   "execution_count": null,
   "id": "96e6ccd2-4fa7-42bb-8494-04d603ce1b46",
   "metadata": {},
   "outputs": [],
   "source": [
    "meshShapeId = p.createMultiBody(baseMass=1,\n",
    "                               baseInertialFramePosition =[0, 0, 0],\n",
    "                               baseVisualShapeIndex=visualShapeId,\n",
    "                               baseCollisionShapeIndex=collisionShapeId,\n",
    "                               basePosition=[0, 0, 1])\n",
    "\n",
    "print(\"meshShapeId: \", meshShapeId)"
   ]
  },
  {
   "cell_type": "code",
   "execution_count": null,
   "id": "076305d9-14df-41a1-93a0-d0ea25e65a8c",
   "metadata": {},
   "outputs": [],
   "source": [
    "p.removeBody(meshShapeId)"
   ]
  },
  {
   "cell_type": "markdown",
   "id": "3b6b10d6-4deb-4e62-955d-42545f9b6b33",
   "metadata": {},
   "source": [
    "# Import robot from URDF"
   ]
  },
  {
   "cell_type": "code",
   "execution_count": null,
   "id": "8faca086-72e4-4f13-8b27-90065625dc9c",
   "metadata": {},
   "outputs": [],
   "source": [
    "urdf_path = \"./indy7_v2/model.urdf\"\n",
    "base_pos = [0, 0, 0]\n",
    "base_quat = p.getQuaternionFromEuler([0, 0, 0])\n",
    "\n",
    "flags = p.URDF_USE_INERTIA_FROM_FILE + p.URDF_USE_SELF_COLLISION + p.URDF_USE_SELF_COLLISION_EXCLUDE_PARENT\n",
    "\n",
    "robotId = p.loadURDF(urdf_path, \n",
    "                     basePosition=base_pos, \n",
    "                     baseOrientation=base_quat,\n",
    "                     flags=flags, \n",
    "                     physicsClientId=ClientId)"
   ]
  },
  {
   "cell_type": "markdown",
   "id": "542d046a-bb9d-4b88-8d4f-1fec3a3c5c18",
   "metadata": {},
   "source": [
    "### get robot's joint info"
   ]
  },
  {
   "cell_type": "code",
   "execution_count": null,
   "id": "9da5d3a9-59cf-407e-92f3-0cf60d667a0b",
   "metadata": {},
   "outputs": [],
   "source": [
    "numJoints = p.getNumJoints(robotId, physicsClientId=ClientId)\n",
    "print(\"numJoints: \", numJoints)\n",
    "\n",
    "def getPybulletJointType(JointType):\n",
    "    if JointType == p.JOINT_FIXED:\n",
    "        return 'fixed'\n",
    "    elif JointType == p.JOINT_REVOLUTE:\n",
    "        return 'revolute'\n",
    "    elif JointType == p.JOINT_PRISMATIC:\n",
    "        return 'prismatic'\n",
    "    else:\n",
    "        return 'etc'\n",
    "\n",
    "MovableJointIdx = []\n",
    "EEJointIdx = None\n",
    "\n",
    "for jointIndex in range(numJoints):\n",
    "    JointInfo = p.getJointInfo(robotId, jointIndex=jointIndex, physicsClientId=ClientId)\n",
    "    print(\"\\n*** Joint {} ***\".format(jointIndex))\n",
    "    print(\"JointName: \", JointInfo[1])\n",
    "    print(\"JointType: \", getPybulletJointType(JointInfo[2]))\n",
    "    \n",
    "    if getPybulletJointType(JointInfo[2]) in ['revolute', 'prismatic']:\n",
    "        MovableJointIdx.append(jointIndex)\n",
    "    elif getPybulletJointType(JointInfo[2]) == 'fixed':\n",
    "        EEJointIdx = jointIndex\n",
    "\n",
    "print(\"\\nnumMovableJoints: \", len(MovableJointIdx))"
   ]
  },
  {
   "cell_type": "markdown",
   "id": "61d23897-d4ae-4862-b64c-7518a04c867b",
   "metadata": {},
   "source": [
    "### get robot's joint states"
   ]
  },
  {
   "cell_type": "code",
   "execution_count": null,
   "id": "1b5dae71-6436-499d-bd4d-085c8c9589be",
   "metadata": {},
   "outputs": [],
   "source": [
    "JointStates = p.getJointStates(robotId, jointIndices=MovableJointIdx, physicsClientId=ClientId)\n",
    "\n",
    "for JointIdx, JointState in zip(MovableJointIdx, JointStates):\n",
    "    print(\"\\n*** Joint {} ***\".format(JointIdx))\n",
    "    print(\"JointPosition (rad): \", JointState[0])\n",
    "    print(\"JointVelocity (rad/s): \", JointState[1])"
   ]
  },
  {
   "cell_type": "markdown",
   "id": "e7a4b04d-71a0-463e-bacd-3d77e2c6751f",
   "metadata": {},
   "source": [
    "### get robot's link states"
   ]
  },
  {
   "cell_type": "code",
   "execution_count": null,
   "id": "11b2608e-b28e-42d2-b463-79793fe354dd",
   "metadata": {},
   "outputs": [],
   "source": [
    "LinkStates = p.getLinkStates(robotId, linkIndices=MovableJointIdx+[EEJointIdx], physicsClientId=ClientId)\n",
    "\n",
    "for LinkIdx, LinkState in zip(MovableJointIdx+[EEJointIdx], LinkStates):\n",
    "    print(\"\\n*** Link {} ***\".format(LinkIdx))\n",
    "    print(\"LinkPosition (m): \", LinkState[4])\n",
    "    print(\"LinkOrientation (deg): \", p.getEulerFromQuaternion(LinkState[5]))"
   ]
  },
  {
   "cell_type": "markdown",
   "id": "fa6d5ffb-9bf5-4236-9af1-d22df7fadf5e",
   "metadata": {},
   "source": [
    "# Control robot"
   ]
  },
  {
   "cell_type": "markdown",
   "id": "b2875f7c-66f2-4241-8a2a-8b24a5b11b2a",
   "metadata": {},
   "source": [
    "### Position Control (Simple PD control)"
   ]
  },
  {
   "cell_type": "code",
   "execution_count": null,
   "id": "d2355ffc-d428-45aa-9c01-d691a5e2715b",
   "metadata": {},
   "outputs": [],
   "source": [
    "p.setJointMotorControlArray(robotId, \n",
    "                            jointIndices=MovableJointIdx, \n",
    "                            controlMode=p.POSITION_CONTROL, \n",
    "                            physicsClientId=ClientId)"
   ]
  },
  {
   "cell_type": "markdown",
   "id": "3f281914-1550-43cb-96b1-746d56026f25",
   "metadata": {},
   "source": [
    "##### - change PD gain"
   ]
  },
  {
   "cell_type": "code",
   "execution_count": null,
   "id": "8d9badf9-b1e3-4b66-85a1-123ef8714206",
   "metadata": {},
   "outputs": [],
   "source": [
    "positionGains = [0.01]*len(MovableJointIdx)\n",
    "velocityGains = [0.01]*len(MovableJointIdx)\n",
    "\n",
    "p.setJointMotorControlArray(robotId, \n",
    "                            jointIndices=MovableJointIdx, \n",
    "                            controlMode=p.POSITION_CONTROL, \n",
    "                            positionGains=positionGains,\n",
    "                            velocityGains=velocityGains,\n",
    "                            physicsClientId=ClientId)"
   ]
  },
  {
   "cell_type": "markdown",
   "id": "dc808192-18ee-4ac1-b445-5fa4ed955749",
   "metadata": {},
   "source": [
    "##### -change target joint positions"
   ]
  },
  {
   "cell_type": "code",
   "execution_count": null,
   "id": "d4e26e1a-588f-4b5c-9507-0af7b8b57efd",
   "metadata": {},
   "outputs": [],
   "source": [
    "targetPositions = np.random.randn(len(MovableJointIdx))\n",
    "\n",
    "p.setJointMotorControlArray(robotId, \n",
    "                            jointIndices=MovableJointIdx, \n",
    "                            controlMode=p.POSITION_CONTROL, \n",
    "                            targetPositions=targetPositions,\n",
    "                            physicsClientId=ClientId)"
   ]
  }
 ],
 "metadata": {
  "kernelspec": {
   "display_name": "Python 3 (ipykernel)",
   "language": "python",
   "name": "python3"
  },
  "language_info": {
   "codemirror_mode": {
    "name": "ipython",
    "version": 3
   },
   "file_extension": ".py",
   "mimetype": "text/x-python",
   "name": "python",
   "nbconvert_exporter": "python",
   "pygments_lexer": "ipython3",
   "version": "3.10.9"
  }
 },
 "nbformat": 4,
 "nbformat_minor": 5
}
