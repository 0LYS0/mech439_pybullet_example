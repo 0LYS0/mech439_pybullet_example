{
 "cells": [
  {
   "cell_type": "markdown",
   "metadata": {},
   "source": [
    "# Start simulation (Do not touch)"
   ]
  },
  {
   "cell_type": "markdown",
   "metadata": {},
   "source": [
    "### Import libraries"
   ]
  },
  {
   "cell_type": "code",
   "execution_count": 1,
   "metadata": {},
   "outputs": [],
   "source": [
    "import numpy as np\n",
    "import pybullet as p\n",
    "import pybullet_data\n",
    "from time import sleep"
   ]
  },
  {
   "cell_type": "markdown",
   "metadata": {},
   "source": [
    "### Numpy print options (precision)"
   ]
  },
  {
   "cell_type": "code",
   "execution_count": 2,
   "metadata": {},
   "outputs": [],
   "source": [
    "np.set_printoptions(formatter={'float_kind': lambda x: \"{0:0.3f}\".format(x)}) # print up to 3 decimal place"
   ]
  },
  {
   "cell_type": "markdown",
   "metadata": {},
   "source": [
    "### Connect to GUI"
   ]
  },
  {
   "cell_type": "code",
   "execution_count": 3,
   "metadata": {},
   "outputs": [],
   "source": [
    "ClientId = p.connect(p.GUI) # open client with GUI"
   ]
  },
  {
   "cell_type": "markdown",
   "metadata": {},
   "source": [
    "### GUI configurations"
   ]
  },
  {
   "cell_type": "code",
   "execution_count": 4,
   "metadata": {},
   "outputs": [],
   "source": [
    "p.setAdditionalSearchPath(pybullet_data.getDataPath())\n",
    "\n",
    "p.configureDebugVisualizer(p.COV_ENABLE_GUI, 0)                        # Enable/Disable a default GUI\n",
    "p.configureDebugVisualizer(p.COV_ENABLE_SHADOWS, 1)                    # Enable/Disable a light effect\n",
    "p.configureDebugVisualizer(p.COV_ENABLE_RGB_BUFFER_PREVIEW, 0)         # Show/Hide a RGB buffer preview window\n",
    "p.configureDebugVisualizer(p.COV_ENABLE_DEPTH_BUFFER_PREVIEW, 0)       # Show/Hide a Depth buffer preview window\n",
    "p.configureDebugVisualizer(p.COV_ENABLE_SEGMENTATION_MARK_PREVIEW, 0)  # Show/Hide a Seg-map buffer preview window"
   ]
  },
  {
   "cell_type": "markdown",
   "metadata": {},
   "source": [
    "### Simulation settings"
   ]
  },
  {
   "cell_type": "code",
   "execution_count": 5,
   "metadata": {},
   "outputs": [],
   "source": [
    "p.resetDebugVisualizerCamera(cameraDistance=1.5, cameraYaw=45, cameraPitch=-30, cameraTargetPosition=[0, 0, 0.5]) # move camera view\n",
    "p.setGravity(0, 0, -9.81) # set a gravity vector\n",
    "p.setTimeStep(1./240)     # set a simulation time step (240 Hz)\n",
    "p.setRealTimeSimulation(1) # start real-time physics simulation"
   ]
  },
  {
   "cell_type": "markdown",
   "metadata": {},
   "source": [
    "### Load plane"
   ]
  },
  {
   "cell_type": "code",
   "execution_count": 6,
   "metadata": {},
   "outputs": [],
   "source": [
    "PlaneId = p.loadURDF(\"plane.urdf\") # ground"
   ]
  },
  {
   "cell_type": "markdown",
   "metadata": {},
   "source": [
    "### coordinate frame visualization function"
   ]
  },
  {
   "cell_type": "code",
   "execution_count": 7,
   "metadata": {},
   "outputs": [],
   "source": [
    "def visualizeEEframe(robotId, n=6):\n",
    "    LineID = []\n",
    "    for i in range(3): # iteration for X, Y, Z\n",
    "        # draw axis in body frame\n",
    "        id = p.addUserDebugLine(lineFromXYZ=[0, 0, 0.06], lineToXYZ=0.1*np.eye(3)[i] + [0, 0, 0.06], lineColorRGB=np.eye(3)[i], lineWidth=5, \n",
    "                                parentObjectUniqueId=robotId, parentLinkIndex=n-1, physicsClientId=ClientId)\n",
    "        LineID.append(id)\n",
    "    return LineID\n",
    "\n",
    "def visualizeDHframe(ballId):\n",
    "    LineID = []\n",
    "    for i in range(3):# iteration for X, Y, Z\n",
    "        # draw axis in body frame\n",
    "        id = p.addUserDebugLine(lineFromXYZ=[0, 0, 0], lineToXYZ=0.1*np.eye(3)[i], lineColorRGB=np.eye(3)[i], lineWidth=5, \n",
    "                                parentObjectUniqueId=ballId, physicsClientId=ClientId)\n",
    "        LineID.append(id)\n",
    "    return LineID"
   ]
  },
  {
   "cell_type": "markdown",
   "metadata": {},
   "source": [
    "### Load robot"
   ]
  },
  {
   "cell_type": "code",
   "execution_count": 8,
   "metadata": {},
   "outputs": [
    {
     "data": {
      "text/plain": [
       "[3, 4, 5]"
      ]
     },
     "execution_count": 8,
     "metadata": {},
     "output_type": "execute_result"
    }
   ],
   "source": [
    "# Load robot and read joint informations\n",
    "urdf_path = \"./indy7_v2/model.urdf\"\n",
    "base_pos = [0, 0, 0]\n",
    "base_quat = p.getQuaternionFromEuler([0, 0, 0])\n",
    "\n",
    "flags = p.URDF_USE_INERTIA_FROM_FILE + p.URDF_USE_SELF_COLLISION + p.URDF_USE_SELF_COLLISION_EXCLUDE_PARENT\n",
    "\n",
    "robotId = p.loadURDF(urdf_path, \n",
    "                     basePosition=base_pos, \n",
    "                     baseOrientation=base_quat,\n",
    "                     flags=flags, \n",
    "                     physicsClientId=ClientId)\n",
    "numJoints = p.getNumJoints(robotId, physicsClientId=ClientId)\n",
    "jointTypes = [p.getJointInfo(robotId, i)[2] for i in range(numJoints)]\n",
    "MovableJointIdx = [i for i, jointType in enumerate(jointTypes) if jointType==p.JOINT_REVOLUTE or jointType==p.JOINT_PRISMATIC]\n",
    "LineID = visualizeEEframe(robotId, len(MovableJointIdx))\n",
    "\n",
    "# Load a sphere to visualize coordinate frame obtained by DH method\n",
    "obj_color = [1, 0, 0, 1]\n",
    "visualShapeId = p.createVisualShape(shapeType=p.GEOM_SPHERE, \n",
    "                                    radius=0.01, \n",
    "                                    rgbaColor=obj_color)\n",
    "ballId = p.createMultiBody(baseMass=0,\n",
    "                           baseInertialFramePosition =[0, 0, 0],\n",
    "                           baseVisualShapeIndex=visualShapeId,\n",
    "                           basePosition=[0, 0, 1])\n",
    "visualizeDHframe(ballId)"
   ]
  },
  {
   "cell_type": "markdown",
   "metadata": {},
   "source": [
    "# Forward Kinematics"
   ]
  },
  {
   "cell_type": "markdown",
   "metadata": {},
   "source": [
    "### DH notation"
   ]
  },
  {
   "cell_type": "code",
   "execution_count": 9,
   "metadata": {},
   "outputs": [],
   "source": [
    "#TODO: Define functions for FK by DH\n",
    "def updateDHparams(dh_parameters, joint_variables, jointTypes):\n",
    "    pass\n",
    "\n",
    "def getRelativeTransformation(dh_parameter):\n",
    "    pass\n",
    "\n",
    "def FK_DH(dh_parameters):\n",
    "    pass"
   ]
  },
  {
   "cell_type": "markdown",
   "metadata": {},
   "source": [
    "### Functions required to get end-effector's transformation"
   ]
  },
  {
   "cell_type": "code",
   "execution_count": 10,
   "metadata": {},
   "outputs": [],
   "source": [
    "def getTfromRp(R, pos):\n",
    "    T = np.eye(4)\n",
    "    T[0:3, 0:3] = R\n",
    "    T[0:3, 3] = pos\n",
    "    return T\n",
    "\n",
    "def getEETransformation(robotId, n=7):\n",
    "    \"\"\"\n",
    "    Get end effector's homogeneous transformation w.r.t. world frame.\n",
    "\n",
    "    :param robotId: robot's id returned when loading urdf.\n",
    "    :param n: index of robot's link that we want to observe.\n",
    "    :return: Robot link's position and orientation in the form of transformation matrix.\n",
    "    \"\"\"\n",
    "    linkState = p.getLinkState(robotId, n-1) \n",
    "    pos = linkState[4]\n",
    "    R = p.getMatrixFromQuaternion(linkState[5])\n",
    "    R = np.array(R).reshape(3,3)\n",
    "    return getTfromRp(R, pos)\n",
    "    # phi, theta, psi = p.getEulerFromQuaternion(linkState[5]) # XYZ Euler angle\n",
    "    # cphi = np.cos(phi)\n",
    "    # sphi = np.sin(phi)\n",
    "    # ctheta = np.cos(theta)\n",
    "    # stheta = np.sin(theta)\n",
    "    # cpsi = np.cos(psi)\n",
    "    # spsi = np.sin(psi)\n",
    "    # R = [[ctheta * cpsi, -ctheta * spsi, stheta],\n",
    "    #      [sphi * stheta * cpsi + cphi * spsi, -sphi * stheta * spsi + cphi * cpsi, -sphi * ctheta],\n",
    "    #      [-cphi * stheta * cpsi + sphi * spsi, cphi * stheta * spsi + sphi * cpsi, cphi * ctheta]]\n",
    "    \n",
    "def rotation_matrix_to_quaternion(R):\n",
    "    \"\"\"\n",
    "    Convert a rotation matrix into a quaternion.\n",
    "\n",
    "    :param R: A 3x3 rotation matrix.\n",
    "    :return: A quaternion in the form of [x, y, z, w].\n",
    "    \"\"\"\n",
    "    m00, m01, m02 = R[0, 0], R[0, 1], R[0, 2]\n",
    "    m10, m11, m12 = R[1, 0], R[1, 1], R[1, 2]\n",
    "    m20, m21, m22 = R[2, 0], R[2, 1], R[2, 2]\n",
    "    \n",
    "    trace = m00 + m11 + m22\n",
    "\n",
    "    if trace > 0:\n",
    "        s = 0.5 / np.sqrt(trace + 1.0)\n",
    "        w = 0.25 / s\n",
    "        x = (m21 - m12) * s\n",
    "        y = (m02 - m20) * s\n",
    "        z = (m10 - m01) * s\n",
    "    elif m00 > m11 and m00 > m22:\n",
    "        s = 2.0 * np.sqrt(1.0 + m00 - m11 - m22)\n",
    "        w = (m21 - m12) / s\n",
    "        x = 0.25 * s\n",
    "        y = (m01 + m10) / s\n",
    "        z = (m02 + m20) / s\n",
    "    elif m11 > m22:\n",
    "        s = 2.0 * np.sqrt(1.0 + m11 - m00 - m22)\n",
    "        w = (m02 - m20) / s\n",
    "        x = (m01 + m10) / s\n",
    "        y = 0.25 * s\n",
    "        z = (m12 + m21) / s\n",
    "    else:\n",
    "        s = 2.0 * np.sqrt(1.0 + m22 - m00 - m11)\n",
    "        w = (m10 - m01) / s\n",
    "        x = (m02 + m20) / s\n",
    "        y = (m12 + m21) / s\n",
    "        z = 0.25 * s\n",
    "\n",
    "    return np.array([x, y, z, w])"
   ]
  },
  {
   "cell_type": "markdown",
   "metadata": {},
   "source": [
    "# Test"
   ]
  },
  {
   "cell_type": "markdown",
   "metadata": {},
   "source": [
    "### Set target joint variables"
   ]
  },
  {
   "cell_type": "code",
   "execution_count": 12,
   "metadata": {},
   "outputs": [],
   "source": [
    "#TODO: Set arbitrary joint variables\n",
    "q = np.array([0,0,0,0,0,0]) * np.pi / 180"
   ]
  },
  {
   "cell_type": "markdown",
   "metadata": {},
   "source": [
    "### Get desired transformation using DH method"
   ]
  },
  {
   "cell_type": "code",
   "execution_count": 13,
   "metadata": {},
   "outputs": [],
   "source": [
    "#TODO: Define Indy7 v2 DH parameters\n",
    "\n",
    "\n",
    "#TODO: Get EE's Transformation matrix using FK by DH\n",
    "T_dh = FK_DH(dh_parameters)\n",
    "\n",
    "# visualization part, do not touch\n",
    "R_dh = T_dh[0:3, 0:3]\n",
    "pos_dh = T_dh[0:3, 3].T\n",
    "quat_dh = rotation_matrix_to_quaternion(R_dh)\n",
    "p.resetBasePositionAndOrientation(ballId, pos_dh, quat_dh)"
   ]
  },
  {
   "cell_type": "markdown",
   "metadata": {},
   "source": [
    "### Apply joint variables to robot and get current transformation"
   ]
  },
  {
   "cell_type": "code",
   "execution_count": 14,
   "metadata": {},
   "outputs": [],
   "source": [
    "#TODO: Apply joint variables to robot and get EE's Transformation matrix\n",
    "\n",
    "# p.setJointMotorControlArray()\n",
    "# sleep(0.5)"
   ]
  },
  {
   "cell_type": "code",
   "execution_count": 15,
   "metadata": {},
   "outputs": [
    {
     "name": "stdout",
     "output_type": "stream",
     "text": [
      "[[-0.644 0.477 0.598 0.042]\n",
      " [-0.369 0.491 -0.789 -0.179]\n",
      " [-0.670 -0.729 -0.140 -0.426]\n",
      " [0.000 0.000 0.000 1.000]]\n"
     ]
    }
   ],
   "source": [
    "T_simul = getEETransformation(robotId, numJoints)\n",
    "\n",
    "print(np.matmul(np.linalg.inv(T_dh), T_simul)) # This should be eye(4)\n"
   ]
  },
  {
   "cell_type": "code",
   "execution_count": 16,
   "metadata": {},
   "outputs": [],
   "source": [
    "#p.disconnect()"
   ]
  }
 ],
 "metadata": {
  "kernelspec": {
   "display_name": "robotics",
   "language": "python",
   "name": "python3"
  },
  "language_info": {
   "codemirror_mode": {
    "name": "ipython",
    "version": 3
   },
   "file_extension": ".py",
   "mimetype": "text/x-python",
   "name": "python",
   "nbconvert_exporter": "python",
   "pygments_lexer": "ipython3",
   "version": "3.8.19"
  }
 },
 "nbformat": 4,
 "nbformat_minor": 2
}
